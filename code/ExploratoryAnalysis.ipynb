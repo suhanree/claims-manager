{
 "metadata": {
  "name": "",
  "signature": "sha256:f49828389666e798f9870c9038070bf3b0c57ac80792fb56e3a210802469d939"
 },
 "nbformat": 3,
 "nbformat_minor": 0,
 "worksheets": [
  {
   "cells": [
    {
     "cell_type": "markdown",
     "metadata": {},
     "source": [
      "# Claim management - Exploratory Analysis"
     ]
    },
    {
     "cell_type": "markdown",
     "metadata": {},
     "source": [
      "## Importing libraries"
     ]
    },
    {
     "cell_type": "code",
     "collapsed": false,
     "input": [
      "# importing libraries.\n",
      "import pandas as pd\n",
      "import numpy as np\n",
      "import random\n",
      "from collections import Counter\n",
      "\n",
      "# importing tools\n",
      "from sklearn.preprocessing import StandardScaler\n",
      "from sklearn.cross_validation import cross_val_score\n",
      "\n",
      "# importing models\n",
      "from sklearn import linear_model\n",
      "from sklearn.ensemble import RandomForestClassifier, AdaBoostClassifier, GradientBoostingClassifier\n",
      "from sklearn.svm import SVC\n",
      "from sklearn.neighbors import KNeighborsClassifier\n",
      "from sklearn.tree import DecisionTreeClassifier\n",
      "from sklearn.naive_bayes import GaussianNB\n",
      "#from sklearn.lda import LDA\n",
      "#from sklearn.qda import QDA\n",
      "\n",
      "# matplotlib\n",
      "import matplotlib.pyplot as plt\n",
      "%matplotlib inline"
     ],
     "language": "python",
     "metadata": {},
     "outputs": [],
     "prompt_number": 70
    },
    {
     "cell_type": "markdown",
     "metadata": {},
     "source": [
      "## Reading datasets (train and test) and looking at basic information"
     ]
    },
    {
     "cell_type": "code",
     "collapsed": false,
     "input": [
      "# Reading the train & test sets\n",
      "df_train = pd.read_csv('../data/train.csv')\n",
      "df_test = pd.read_csv('../data/test.csv')"
     ],
     "language": "python",
     "metadata": {},
     "outputs": [],
     "prompt_number": 118
    },
    {
     "cell_type": "code",
     "collapsed": false,
     "input": [
      "# dimensions \n",
      "print df_train.shape, df_test.shape\n",
      "\n",
      "# numbers of rows for train & test sets\n",
      "num_rows_train = df_train.shape[0]\n",
      "num_rows_test = df_test.shape[0]\n",
      "\n",
      "# number of variables\n",
      "num_variables = df_test.shape[1] - 1\n",
      "print num_variables"
     ],
     "language": "python",
     "metadata": {},
     "outputs": [
      {
       "output_type": "stream",
       "stream": "stdout",
       "text": [
        "(114321, 133) (114393, 132)\n",
        "131\n"
       ]
      }
     ],
     "prompt_number": 119
    },
    {
     "cell_type": "markdown",
     "metadata": {},
     "source": [
      "If we exclude ID and the target variable, there are 131 variables. As expected, the test set doesn't have the target variable."
     ]
    },
    {
     "cell_type": "code",
     "collapsed": false,
     "input": [
      "# Check if ID has null and duplicates.\n",
      "print df_train['ID'].isnull().sum(), \\\n",
      "    len(df_train['ID'].unique()) == df_train.shape[0]\n",
      "print df_test['ID'].isnull().sum(), \\\n",
      "    len(df_test['ID'].unique()) == df_test.shape[0]"
     ],
     "language": "python",
     "metadata": {},
     "outputs": [
      {
       "output_type": "stream",
       "stream": "stdout",
       "text": [
        "0 True\n",
        "0 "
       ]
      },
      {
       "output_type": "stream",
       "stream": "stdout",
       "text": [
        "True\n"
       ]
      }
     ],
     "prompt_number": 120
    },
    {
     "cell_type": "code",
     "collapsed": false,
     "input": [
      "# Set ID as index\n",
      "df_train.set_index('ID', inplace=True)\n",
      "df_test.set_index('ID', inplace=True)\n",
      "\n",
      "# Target is separated from df_train.\n",
      "target_train = df_train.pop('target')"
     ],
     "language": "python",
     "metadata": {},
     "outputs": [],
     "prompt_number": 121
    },
    {
     "cell_type": "code",
     "collapsed": false,
     "input": [
      "# column names\n",
      "column_names = df_train.columns\n",
      "print column_names"
     ],
     "language": "python",
     "metadata": {},
     "outputs": [
      {
       "output_type": "stream",
       "stream": "stdout",
       "text": [
        "Index([u'v1', u'v2', u'v3', u'v4', u'v5', u'v6', u'v7', u'v8', u'v9', u'v10', u'v11', u'v12', u'v13', u'v14', u'v15', u'v16', u'v17', u'v18', u'v19', u'v20', u'v21', u'v22', u'v23', u'v24', u'v25', u'v26', u'v27', u'v28', u'v29', u'v30', u'v31', u'v32', u'v33', u'v34', u'v35', u'v36', u'v37', u'v38', u'v39', u'v40', u'v41', u'v42', u'v43', u'v44', u'v45', u'v46', u'v47', u'v48', u'v49', u'v50', u'v51', u'v52', u'v53', u'v54', u'v55', u'v56', u'v57', u'v58', u'v59', u'v60', u'v61', u'v62', u'v63', u'v64', u'v65', u'v66', u'v67', u'v68', u'v69', u'v70', u'v71', u'v72', u'v73', u'v74', u'v75', u'v76', u'v77', u'v78', u'v79', u'v80', u'v81', u'v82', u'v83', u'v84', u'v85', u'v86', u'v87', u'v88', u'v89', u'v90', u'v91', u'v92', u'v93', u'v94', u'v95', u'v96', u'v97', u'v98', u'v99', u'v100', ...], dtype='object')\n"
       ]
      }
     ],
     "prompt_number": 122
    },
    {
     "cell_type": "markdown",
     "metadata": {},
     "source": [
      "## Exploring category variables"
     ]
    },
    {
     "cell_type": "code",
     "collapsed": false,
     "input": [
      "# indices of category variables by looking at the data (23 out of 131)\n",
      "category_variables = [2, 21, 23, 29, 30, 37, 46, 51, 55, 61,\n",
      "                      65, 70, 71, 73, 74, 78, 90, 106, 109, 111,\n",
      "                      112, 124, 128]\n",
      "numerical_variables = [i for i in range(num_variables) if i not in category_variables]\n",
      "\n",
      "for i in category_variables:\n",
      "    print df_train.columns[i] + \":\", df_train.iloc[:,i].nunique(), \\\n",
      "        np.sort(df_train.iloc[:,i].unique())\n",
      "for i in category_variables:\n",
      "    print df_test.columns[i] + \":\", df_test.iloc[:,i].nunique(), \\\n",
      "        np.sort(df_test.iloc[:,i].unique())"
     ],
     "language": "python",
     "metadata": {},
     "outputs": [
      {
       "output_type": "stream",
       "stream": "stdout",
       "text": [
        "v3: "
       ]
      },
      {
       "output_type": "stream",
       "stream": "stdout",
       "text": [
        "3 [nan 'A' 'B' 'C']\n",
        "v22: "
       ]
      },
      {
       "output_type": "stream",
       "stream": "stdout",
       "text": [
        "18210 "
       ]
      },
      {
       "output_type": "stream",
       "stream": "stdout",
       "text": [
        "[nan 'AA' 'AAA' ..., 'ZZV' 'ZZW' 'ZZZ']\n",
        "v24: 5 ['A' 'B' 'C' 'D' 'E']\n",
        "v30: "
       ]
      },
      {
       "output_type": "stream",
       "stream": "stdout",
       "text": [
        "7 [nan 'A' 'B' 'C' 'D' 'E' 'F' 'G']\n",
        "v31: 3 [nan 'A' 'B' 'C']\n",
        "v38: 12 "
       ]
      },
      {
       "output_type": "stream",
       "stream": "stdout",
       "text": [
        "[ 0  1  2  3  4  5  6  7  8  9 10 12]\n",
        "v47: 10 ['A' 'B' 'C' 'D' 'E' 'F' 'G' 'H' 'I' 'J']\n",
        "v52: 12 [nan 'A' 'B' 'C' 'D' 'E' 'F' 'G' 'H' 'I' 'J' 'K' 'L']\n",
        "v56: 122 [nan 'A' 'AA' 'AB' 'AC' 'AE' 'AF' 'AG' 'AH' 'AI' 'AJ' 'AK' 'AL' 'AM' 'AN'\n",
        " 'AO' 'AP' 'AR' 'AS' 'AT' 'AU' 'AV' 'AW' 'AX' 'AY' 'AZ' 'B' 'BA' 'BC' 'BD'\n",
        " 'BE' 'BF' 'BG' 'BH' 'BI' 'BJ' 'BK' 'BL' 'BM' 'BN' 'BO' 'BP' 'BQ' 'BR' 'BS'\n",
        " 'BT' 'BU' 'BV' 'BW' 'BX' 'BY' 'BZ' 'C' 'CA' 'CB' 'CC' 'CD' 'CE' 'CF' 'CG'\n",
        " 'CH' 'CI' 'CJ' 'CK' 'CL' 'CM' 'CN' 'CO' 'CP' 'CQ' 'CS' 'CT' 'CV' 'CW' 'CX'\n",
        " 'CY' 'CZ' 'D' 'DA' 'DB' 'DC' 'DD' 'DE' 'DF' 'DG' 'DH' 'DI' 'DJ' 'DK' 'DL'\n",
        " 'DM' 'DN' 'DO' 'DP' 'DQ' 'DR' 'DS' 'DT' 'DU' 'DV' 'DW' 'DX' 'DY' 'DZ' 'E'\n",
        " 'F' 'G' 'H' 'I' 'L' 'M' 'N' 'O' 'P' 'Q' 'R' 'T' 'U' 'V' 'W' 'X' 'Y' 'Z']"
       ]
      },
      {
       "output_type": "stream",
       "stream": "stdout",
       "text": [
        "\n",
        "v62: 8 [0 1 2 3 4 5 6 7]\n",
        "v66: 3 ['A' 'B' 'C']\n",
        "v71: 9 ['A' 'B' 'C' 'D' 'F' 'G' 'I' 'K' 'L']\n",
        "v72: 13 "
       ]
      },
      {
       "output_type": "stream",
       "stream": "stdout",
       "text": [
        "[ 0  1  2  3  4  5  6  7  8  9 10 11 12]\n",
        "v74: 3 ['A' 'B' 'C']\n",
        "v75: 4 ['A' 'B' 'C' 'D']\n",
        "v79: 18 "
       ]
      },
      {
       "output_type": "stream",
       "stream": "stdout",
       "text": [
        "['A' 'B' 'C' 'D' 'E' 'F' 'G' 'H' 'I' 'J' 'K' 'L' 'M' 'N' 'O' 'P' 'Q' 'R']\n",
        "v91: 7 [nan 'A' 'B' 'C' 'D' 'E' 'F' 'G']\n",
        "v107: 7 [nan 'A' 'B' 'C' 'D' 'E' 'F' 'G']\n",
        "v110: 3 "
       ]
      },
      {
       "output_type": "stream",
       "stream": "stdout",
       "text": [
        "['A' 'B' 'C']\n",
        "v112: 22 [nan 'A' 'B' 'C' 'D' 'E' 'F' 'G' 'H' 'I' 'J' 'K' 'L' 'M' 'N' 'O' 'P' 'Q'\n",
        " 'R' 'S' 'T' 'U' 'V']\n",
        "v113: 36 [nan 'A' 'AA' 'AB' 'AC' 'AD' 'AE' 'AF' 'AG' 'AH' 'AI' 'AJ' 'AK' 'B' 'C' 'D'\n",
        " 'E' 'F' 'G' 'H' 'I' 'J' 'L' 'M' 'N' 'O' 'P' 'Q' 'R' 'S' 'T' 'U' 'V' 'W'\n",
        " 'X' 'Y' 'Z']\n",
        "v125: "
       ]
      },
      {
       "output_type": "stream",
       "stream": "stdout",
       "text": [
        "90 [nan 'A' 'AA' 'AB' 'AC' 'AD' 'AE' 'AF' 'AG' 'AH' 'AI' 'AJ' 'AK' 'AL' 'AM'\n",
        " 'AN' 'AO' 'AP' 'AQ' 'AR' 'AS' 'AT' 'AU' 'AV' 'AW' 'AX' 'AY' 'AZ' 'B' 'BA'\n",
        " 'BB' 'BC' 'BD' 'BE' 'BF' 'BG' 'BH' 'BI' 'BJ' 'BK' 'BL' 'BM' 'BN' 'BO' 'BP'\n",
        " 'BQ' 'BR' 'BS' 'BT' 'BU' 'BV' 'BW' 'BX' 'BY' 'BZ' 'C' 'CA' 'CB' 'CC' 'CD'\n",
        " 'CE' 'CF' 'CG' 'CH' 'CI' 'CJ' 'CK' 'CL' 'D' 'E' 'F' 'G' 'H' 'I' 'J' 'K'\n",
        " 'L' 'M' 'N' 'O' 'P' 'Q' 'R' 'S' 'T' 'U' 'V' 'W' 'X' 'Y' 'Z']\n",
        "v129: 10 [ 0  1  2  3  4  5  6  7  8 11]\n",
        "v3: 3 [nan 'A' 'B' 'C']\n",
        "v22: "
       ]
      },
      {
       "output_type": "stream",
       "stream": "stdout",
       "text": [
        "18252 "
       ]
      },
      {
       "output_type": "stream",
       "stream": "stdout",
       "text": [
        "[nan 'A' 'AA' ..., 'ZZX' 'ZZY' 'ZZZ']\n",
        "v24: 5 ['A' 'B' 'C' 'D' 'E']\n",
        "v30: 7 [nan 'A' 'B' 'C' 'D' 'E' 'F' 'G']\n",
        "v31: 3 "
       ]
      },
      {
       "output_type": "stream",
       "stream": "stdout",
       "text": [
        "[nan 'A' 'B' 'C']\n",
        "v38: 12 [ 0  1  2  3  4  5  6  7  8  9 10 12]\n",
        "v47: 9 ['A' 'B' 'C' 'D' 'E' 'F' 'G' 'I' 'J']\n",
        "v52: 12 [nan 'A' 'B' 'C' 'D' 'E' 'F' 'G' 'H' 'I' 'J' 'K' 'L']\n",
        "v56: "
       ]
      },
      {
       "output_type": "stream",
       "stream": "stdout",
       "text": [
        "116 [nan 'A' 'AA' 'AB' 'AC' 'AD' 'AE' 'AF' 'AG' 'AH' 'AI' 'AJ' 'AK' 'AL' 'AM'\n",
        " 'AN' 'AO' 'AQ' 'AR' 'AS' 'AU' 'AV' 'AW' 'AY' 'AZ' 'B' 'BA' 'BB' 'BC' 'BD'\n",
        " 'BE' 'BF' 'BG' 'BH' 'BI' 'BJ' 'BK' 'BL' 'BM' 'BN' 'BP' 'BQ' 'BR' 'BS' 'BT'\n",
        " 'BU' 'BV' 'BW' 'BX' 'BY' 'BZ' 'C' 'CA' 'CB' 'CC' 'CD' 'CF' 'CH' 'CI' 'CJ'\n",
        " 'CL' 'CM' 'CN' 'CO' 'CP' 'CQ' 'CR' 'CS' 'CT' 'CU' 'CV' 'CW' 'CX' 'CY' 'D'\n",
        " 'DA' 'DD' 'DE' 'DF' 'DG' 'DH' 'DI' 'DJ' 'DK' 'DL' 'DM' 'DN' 'DO' 'DP' 'DQ'\n",
        " 'DR' 'DS' 'DT' 'DU' 'DV' 'DW' 'DX' 'DY' 'DZ' 'E' 'F' 'G' 'J' 'K' 'M' 'N'\n",
        " 'O' 'P' 'Q' 'R' 'S' 'T' 'U' 'V' 'W' 'Y' 'Z']\n",
        "v62: 8 [0 1 2 3 4 5 6 7]\n",
        "v66: 3 ['A' 'B' 'C']\n",
        "v71: 9 "
       ]
      },
      {
       "output_type": "stream",
       "stream": "stdout",
       "text": [
        "['B' 'C' 'E' 'F' 'G' 'H' 'I' 'J' 'L']\n",
        "v72: 13 [ 0  1  2  3  4  5  6  7  8  9 10 11 12]\n",
        "v74: 3 ['A' 'B' 'C']\n",
        "v75: 4 ['A' 'B' 'C' 'D']\n",
        "v79: 17 "
       ]
      },
      {
       "output_type": "stream",
       "stream": "stdout",
       "text": [
        "['A' 'B' 'C' 'D' 'E' 'F' 'G' 'H' 'I' 'J' 'K' 'M' 'N' 'O' 'P' 'Q' 'R']\n",
        "v91: 7 [nan 'A' 'B' 'C' 'D' 'E' 'F' 'G']\n",
        "v107: 7 [nan 'A' 'B' 'C' 'D' 'E' 'F' 'G']\n",
        "v110: 3 "
       ]
      },
      {
       "output_type": "stream",
       "stream": "stdout",
       "text": [
        "['A' 'B' 'C']\n",
        "v112: 22 [nan 'A' 'B' 'C' 'D' 'E' 'F' 'G' 'H' 'I' 'J' 'K' 'L' 'M' 'N' 'O' 'P' 'Q'\n",
        " 'R' 'S' 'T' 'U' 'V']\n",
        "v113: 36 "
       ]
      },
      {
       "output_type": "stream",
       "stream": "stdout",
       "text": [
        "[nan 'A' 'AA' 'AB' 'AC' 'AD' 'AE' 'AF' 'AG' 'AH' 'AI' 'AJ' 'B' 'C' 'D' 'E'\n",
        " 'F' 'G' 'H' 'I' 'J' 'K' 'L' 'M' 'N' 'O' 'P' 'Q' 'R' 'S' 'T' 'U' 'V' 'W'\n",
        " 'X' 'Y' 'Z']\n",
        "v125: 90 [nan 'A' 'AA' 'AB' 'AC' 'AD' 'AE' 'AF' 'AG' 'AH' 'AI' 'AJ' 'AK' 'AL' 'AM'\n",
        " 'AN' 'AO' 'AP' 'AQ' 'AR' 'AS' 'AT' 'AU' 'AV' 'AW' 'AX' 'AY' 'AZ' 'B' 'BA'\n",
        " 'BB' 'BC' 'BD' 'BE' 'BF' 'BG' 'BH' 'BI' 'BJ' 'BK' 'BL' 'BM' 'BN' 'BO' 'BP'\n",
        " 'BQ' 'BR' 'BS' 'BT' 'BU' 'BV' 'BW' 'BX' 'BY' 'BZ' 'C' 'CA' 'CB' 'CC' 'CD'\n",
        " 'CE' 'CF' 'CG' 'CH' 'CI' 'CJ' 'CK' 'CL' 'D' 'E' 'F' 'G' 'H' 'I' 'J' 'K'\n",
        " 'L' 'M' 'N' 'O' 'P' 'Q' 'R' 'S' 'T' 'U' 'V' 'W' 'X' 'Y' 'Z']\n",
        "v129: 10 [ 0  1  2  3  4  5  6  7  8 11]\n"
       ]
      }
     ],
     "prompt_number": 123
    },
    {
     "cell_type": "markdown",
     "metadata": {},
     "source": [
      "Except the column 'v22' (18,211 values), all category variables have less than 100 values."
     ]
    },
    {
     "cell_type": "code",
     "collapsed": false,
     "input": [
      "# Function to compare two lists (assumming both lists have unique values)\n",
      "def list_compare(list1, list2):\n",
      "    set1 = set(list1)\n",
      "    set2 = set(list2)\n",
      "    return set1 == set2"
     ],
     "language": "python",
     "metadata": {},
     "outputs": [],
     "prompt_number": 124
    },
    {
     "cell_type": "code",
     "collapsed": false,
     "input": [
      "# Checking if unique values are the same for category variables\n",
      "for i in category_variables:\n",
      "    print df_train.columns[i], list_compare(df_train.iloc[:,i].unique(), \\\n",
      "                       df_test.iloc[:,i].unique())"
     ],
     "language": "python",
     "metadata": {},
     "outputs": [
      {
       "output_type": "stream",
       "stream": "stdout",
       "text": [
        "v3 True\n",
        "v22 "
       ]
      },
      {
       "output_type": "stream",
       "stream": "stdout",
       "text": [
        "False\n",
        "v24 True\n",
        "v30 True\n",
        "v31 "
       ]
      },
      {
       "output_type": "stream",
       "stream": "stdout",
       "text": [
        "True\n",
        "v38 True\n",
        "v47 False\n",
        "v52 True\n",
        "v56 "
       ]
      },
      {
       "output_type": "stream",
       "stream": "stdout",
       "text": [
        "False\n",
        "v62 True\n",
        "v66 True\n",
        "v71 "
       ]
      },
      {
       "output_type": "stream",
       "stream": "stdout",
       "text": [
        "False\n",
        "v72 True\n",
        "v74 True\n",
        "v75 True\n",
        "v79 "
       ]
      },
      {
       "output_type": "stream",
       "stream": "stdout",
       "text": [
        "False\n",
        "v91 True\n",
        "v107 True\n",
        "v110 "
       ]
      },
      {
       "output_type": "stream",
       "stream": "stdout",
       "text": [
        "True\n",
        "v112 "
       ]
      },
      {
       "output_type": "stream",
       "stream": "stdout",
       "text": [
        "True\n",
        "v113 False\n",
        "v125 "
       ]
      },
      {
       "output_type": "stream",
       "stream": "stdout",
       "text": [
        "True\n",
        "v129 True\n"
       ]
      }
     ],
     "prompt_number": 125
    },
    {
     "cell_type": "markdown",
     "metadata": {},
     "source": [
      "6 variables have different values in train & test sets."
     ]
    },
    {
     "cell_type": "code",
     "collapsed": false,
     "input": [
      "# Function to plot distributions of category variables and how much of each value has target 1.\n",
      "# df is assumed to be with independent variables and target is a separate series.\n",
      "def plot_category_variables(df, target, variable_indices, variable_names):\n",
      "    target_column_name = 'target'\n",
      "    df[target_column_name] = target\n",
      "    fig, axs = plt.subplots(2, len(variable_indices), figsize=(10,6))\n",
      "    for i, ind in enumerate(variable_indices):\n",
      "        avg_pos = df.groupby(variable_names[ind])[target_column_name].mean()\n",
      "        avg_pos.plot(kind='bar', ax=axs[0,i], color='r', alpha = 0.5)\n",
      "        cnt = df.groupby(variable_names[ind]).size()\n",
      "        cnt.plot(kind='bar', ax=axs[1,i])\n",
      "    plt.tight_layout()\n",
      "    plt.suptitle('%Fraud and Total Counts')\n",
      "    plt.show()"
     ],
     "language": "python",
     "metadata": {},
     "outputs": [],
     "prompt_number": 128
    },
    {
     "cell_type": "code",
     "collapsed": false,
     "input": [
      "plot_category_variables(df_train, target_train, category_variables[:5], column_names)"
     ],
     "language": "python",
     "metadata": {},
     "outputs": []
    },
    {
     "cell_type": "code",
     "collapsed": false,
     "input": [
      "a=df_train.groupby(column_names[2]).size()\n",
      "a.plot(kind='bar')"
     ],
     "language": "python",
     "metadata": {},
     "outputs": [
      {
       "metadata": {},
       "output_type": "pyout",
       "prompt_number": 117,
       "text": [
        "<matplotlib.axes.AxesSubplot at 0x15ede5ac>"
       ]
      },
      {
       "metadata": {},
       "output_type": "display_data",
       "png": "[encoded data removed]",
       "text": [
        "<matplotlib.figure.Figure at 0xd3381ec>"
       ]
      }
     ],
     "prompt_number": 117
    },
    {
     "cell_type": "markdown",
     "metadata": {},
     "source": [
      "## Missing values\n",
      "### Based on rows"
     ]
    },
    {
     "cell_type": "code",
     "collapsed": false,
     "input": [
      "# The percentage of cells with nulls.\n",
      "num_nulls_train = df_train.isnull()\n",
      "num_nulls_by_row_train = num_nulls_train.sum(axis=1)\n",
      "num_nulls_by_column_train = num_nulls_train.sum(axis=0)\n",
      "print \"For train set:\", num_nulls_by_row_train.sum()/float(num_rows_train * num_variables)\n",
      "\n",
      "num_nulls_test = df_test.isnull()\n",
      "num_nulls_by_row_test = num_nulls_test.sum(axis=1)\n",
      "num_nulls_by_column_test = num_nulls_test.sum(axis=0)\n",
      "print \"For test set:\", num_nulls_by_row_test.sum()/float(num_rows_test * num_variables)"
     ],
     "language": "python",
     "metadata": {},
     "outputs": [
      {
       "output_type": "stream",
       "stream": "stdout",
       "text": [
        "For train set: 0.340374842473\n",
        "For test set:"
       ]
      },
      {
       "output_type": "stream",
       "stream": "stdout",
       "text": [
        " 0.34044554987\n"
       ]
      }
     ],
     "prompt_number": 78
    },
    {
     "cell_type": "markdown",
     "metadata": {},
     "source": [
      "~ 1/3 of cells are nulls for both train & test sets"
     ]
    },
    {
     "cell_type": "code",
     "collapsed": false,
     "input": [
      "# percentage of rows with no null\n",
      "print \"For train set:\", sum(num_nulls_by_row_train == 0)/float(num_rows_train)\n",
      "print \"For test set:\", sum(num_nulls_by_row_test == 0)/float(num_rows_test)"
     ],
     "language": "python",
     "metadata": {},
     "outputs": [
      {
       "output_type": "stream",
       "stream": "stdout",
       "text": [
        "For train set: "
       ]
      },
      {
       "output_type": "stream",
       "stream": "stdout",
       "text": [
        "0.155317045862\n",
        "For test set: "
       ]
      },
      {
       "output_type": "stream",
       "stream": "stdout",
       "text": [
        "0.154301399561\n"
       ]
      }
     ],
     "prompt_number": 79
    },
    {
     "cell_type": "markdown",
     "metadata": {},
     "source": [
      "Seems like only 15% of rows have no null value for both train & test sets. Now we will look into distributions of nulls in more detail."
     ]
    },
    {
     "cell_type": "code",
     "collapsed": false,
     "input": [
      "# The distribution of the number of null values for each row\n",
      "num_nulls_by_row_train.hist(bins=119, normed=True)\n",
      "plt.xlabel(\"number of missing values\")\n",
      "plt.ylabel(\"% of rows\")\n",
      "plt.title(\"For Train set\")\n",
      "plt.show()"
     ],
     "language": "python",
     "metadata": {},
     "outputs": [
      {
       "metadata": {},
       "output_type": "display_data",
       "png": "[encoded data removed]",
       "text": [
        "<matplotlib.figure.Figure at 0xc27a10c>"
       ]
      }
     ],
     "prompt_number": 87
    },
    {
     "cell_type": "code",
     "collapsed": false,
     "input": [
      "num_nulls_by_row_test.hist(bins=119, normed=True)\n",
      "plt.xlabel(\"number of missing values\")\n",
      "plt.ylabel(\"% of rows\")\n",
      "plt.title(\"For Test set\")\n",
      "plt.show()"
     ],
     "language": "python",
     "metadata": {},
     "outputs": [
      {
       "metadata": {},
       "output_type": "display_data",
       "png": "[encoded data removed]",
       "text": [
        "<matplotlib.figure.Figure at 0xc5bd9ec>"
       ]
      }
     ],
     "prompt_number": 91
    },
    {
     "cell_type": "markdown",
     "metadata": {},
     "source": [
      "Above results show that there are some rows with more than 100 nulls out of 131 possible values. Strangely there is a peak near 100. Therefore we have to keep that in mind.  Also ~1/3 of possible values are missing. Based on these two facts, we need to find systematic ways to deal with missing data. "
     ]
    },
    {
     "cell_type": "code",
     "collapsed": false,
     "input": [
      "# We need to more analysis on missing data.\n",
      "# First, we will select rows with more than 80 nulls.\n",
      "mask_null_80 = (num_nulls_by_row_train > 80)\n",
      "print sum(mask_null_80), num_rows_train, \\\n",
      "    sum(mask_null_80)/float(num_rows_train)"
     ],
     "language": "python",
     "metadata": {},
     "outputs": [
      {
       "output_type": "stream",
       "stream": "stdout",
       "text": [
        " 49796 114321 "
       ]
      },
      {
       "output_type": "stream",
       "stream": "stdout",
       "text": [
        "0.435580514516\n"
       ]
      }
     ],
     "prompt_number": 16
    },
    {
     "cell_type": "markdown",
     "metadata": {},
     "source": [
      "~44% of rows have more than 80 nulls out of 131 values. If we divide the data into 2 groups based on the number of nulls (80 as the dividing point), you can compare the percentage of 1 for the target. "
     ]
    },
    {
     "cell_type": "code",
     "collapsed": false,
     "input": [
      "# Percentage of target 1 out of rows with more than 80 rows.\n",
      "print target_train[mask_null_80].sum()/float(sum(mask_null_80))\n",
      "# Percentage of target 1 out of rows with less than 80 rows.\n",
      "print target_train[~mask_null_80].sum()/float(sum(~mask_null_80))"
     ],
     "language": "python",
     "metadata": {},
     "outputs": [
      {
       "output_type": "stream",
       "stream": "stdout",
       "text": [
        "0.770142180095\n",
        "0.754296784192"
       ]
      },
      {
       "output_type": "stream",
       "stream": "stdout",
       "text": [
        "\n"
       ]
      }
     ],
     "prompt_number": 18
    },
    {
     "cell_type": "markdown",
     "metadata": {},
     "source": [
      "They are not significantly different.\n",
      "### Based on columns"
     ]
    },
    {
     "cell_type": "code",
     "collapsed": false,
     "input": [
      "# We can plot distributions for columns, too.\n",
      "num_nulls_by_column_train.hist(bins=50, normed=True)\n",
      "plt.xlabel(\"number of missing values\")\n",
      "plt.ylabel(\"% of columns\")\n",
      "plt.title(\"For Train set\")\n",
      "plt.show()"
     ],
     "language": "python",
     "metadata": {},
     "outputs": [
      {
       "metadata": {},
       "output_type": "display_data",
       "png": "[encoded data removed]",
       "text": [
        "<matplotlib.figure.Figure at 0x114b136c>"
       ]
      }
     ],
     "prompt_number": 92
    },
    {
     "cell_type": "code",
     "collapsed": false,
     "input": [
      "num_nulls_by_column_test.hist(bins=50, normed=True)\n",
      "plt.xlabel(\"number of missing values\")\n",
      "plt.ylabel(\"% of columns\")\n",
      "plt.title(\"For Test set\")\n",
      "plt.show()"
     ],
     "language": "python",
     "metadata": {},
     "outputs": [
      {
       "metadata": {},
       "output_type": "display_data",
       "png": "[encoded data removed]",
       "text": [
        "<matplotlib.figure.Figure at 0x10dfa06c>"
       ]
      }
     ],
     "prompt_number": 93
    },
    {
     "cell_type": "code",
     "collapsed": false,
     "input": [
      "# percentages of nulls for only category varialbes\n",
      "print df_train.iloc[:, category_variables].isnull().sum().sum() / \\\n",
      "    float(len(category_variables)*num_rows_train)\n",
      "print df_test.iloc[:, category_variables].isnull().sum().sum() / \\\n",
      "    float(len(category_variables)*num_rows_test)"
     ],
     "language": "python",
     "metadata": {},
     "outputs": [
      {
       "output_type": "stream",
       "stream": "stdout",
       "text": [
        "0.0495089532411\n",
        "0.049631343359"
       ]
      },
      {
       "output_type": "stream",
       "stream": "stdout",
       "text": [
        "\n"
       ]
      }
     ],
     "prompt_number": 21
    },
    {
     "cell_type": "markdown",
     "metadata": {},
     "source": [
      "Interesting to observe that there are not many nulls for category variables (5% compared to 34% overall). Therefore we will just assume null values as just another category. With above results, we can safely say that missing values are not randomly distributed. To observe that fact, we plot a scatter plot."
     ]
    },
    {
     "cell_type": "code",
     "collapsed": false,
     "input": [
      "# Function to draw scatter plot of missing values based on their positions \n",
      "# in the data frame (x: column number, y: row number)\n",
      "def draw_missing_values(df, num_rows=200, num_cols=200):\n",
      "    num_rows = (df.shape[0] if df.shape[0] < num_rows else num_rows)\n",
      "    num_cols = (df.shape[1] if df.shape[1] < num_cols else num_cols)\n",
      "    chosen_rows = range(df.shape[0])\n",
      "    random.shuffle(chosen_rows)\n",
      "    chosen_rows = chosen_rows[:num_rows]\n",
      "    df = df.iloc[chosen_rows, :num_cols] # columns are not picked randomly\n",
      "    nulls = df.isnull()\n",
      "    x = []\n",
      "    y = []\n",
      "    for i in range(num_rows):\n",
      "        #if i % 100 == 0:\n",
      "        #    print \"progress:\", i, \"out of\", num_rows\n",
      "        for j in range(num_cols):\n",
      "            if nulls.iloc[i,j]:\n",
      "                x.append(j)\n",
      "                y.append(num_rows - 1 - i)\n",
      "    plt.scatter(x, y, color='blue', s=0.5, alpha=0.5)"
     ],
     "language": "python",
     "metadata": {},
     "outputs": [],
     "prompt_number": 47
    },
    {
     "cell_type": "code",
     "collapsed": false,
     "input": [
      "# draw patterns of missing values (200 rows will be chosen randomly)\n",
      "draw_missing_values(df_train)"
     ],
     "language": "python",
     "metadata": {},
     "outputs": [
      {
       "metadata": {},
       "output_type": "display_data",
       "png": "[encoded data removed]",
       "text": [
        "<matplotlib.figure.Figure at 0x14eebccc>"
       ]
      }
     ],
     "prompt_number": 96
    },
    {
     "cell_type": "markdown",
     "metadata": {},
     "source": [
      "What we could see from this picture is that as expected there is a pattern (MNAR: Missing Not At Random). There are clearly two groups of rows as we have seen. For the group of rows with many missing values, the columns of missing values are almost the same. Vertical white strips mostly represent category variables as we have seen.\n",
      "\n",
      "So it might be a good idea to divide the rows into two groups and to use different sets of columns (and different imputation methods) for predictions. Category variables have to be dealt differently.\n",
      "### Only looking at category variables"
     ]
    },
    {
     "cell_type": "code",
     "collapsed": false,
     "input": [
      "# Missing values for category variables only.\n",
      "draw_missing_values(df_train[category_variables])"
     ],
     "language": "python",
     "metadata": {},
     "outputs": [
      {
       "metadata": {},
       "output_type": "display_data",
       "png": "[encoded data removed]",
       "text": [
        "<matplotlib.figure.Figure at 0xa14490c>"
       ]
      }
     ],
     "prompt_number": 49
    },
    {
     "cell_type": "markdown",
     "metadata": {},
     "source": [
      "Two columns, 'v30' and 'v113', have many missing values."
     ]
    },
    {
     "cell_type": "code",
     "collapsed": false,
     "input": [
      "# Find distributions of values for above two columns dependent on target\n",
      "# values.\n",
      "print Counter(df_train.ix[target_train==1, 'v30']).most_common()\n",
      "print Counter(df_train.ix[target_train==0, 'v30']).most_common()"
     ],
     "language": "python",
     "metadata": {},
     "outputs": [
      {
       "output_type": "stream",
       "stream": "stdout",
       "text": [
        "[(nan, 45881), ('C', 24921), ('G', 6298), ('D', 3772), ('F', 2088), ('E', 2051), ('A', 1831), ('B', 179)]\n",
        "[(nan, 14229), ('C', 7257), ('G', 2430), ('D', 1453), ('E', 922), ('F', 501), ('A', 482), ('B', 26)]\n"
       ]
      }
     ],
     "prompt_number": 67
    },
    {
     "cell_type": "code",
     "collapsed": false,
     "input": [
      "a=Counter(df_train.ix[target_train==1, 'v30'])"
     ],
     "language": "python",
     "metadata": {},
     "outputs": [],
     "prompt_number": 59
    },
    {
     "cell_type": "code",
     "collapsed": false,
     "input": [
      "a.most_common()"
     ],
     "language": "python",
     "metadata": {},
     "outputs": [
      {
       "metadata": {},
       "output_type": "pyout",
       "prompt_number": 64,
       "text": [
        "[(nan, 45881),\n",
        " ('C', 24921),\n",
        " ('G', 6298),\n",
        " ('D', 3772),\n",
        " ('F', 2088),\n",
        " ('E', 2051),\n",
        " ('A', 1831),\n",
        " ('B', 179)]"
       ]
      }
     ],
     "prompt_number": 64
    },
    {
     "cell_type": "code",
     "collapsed": false,
     "input": [
      "a.values()"
     ],
     "language": "python",
     "metadata": {},
     "outputs": [
      {
       "metadata": {},
       "output_type": "pyout",
       "prompt_number": 63,
       "text": [
        "[45881, 1831, 24921, 179, 2051, 3772, 6298, 2088]"
       ]
      }
     ],
     "prompt_number": 63
    },
    {
     "cell_type": "code",
     "collapsed": false,
     "input": [
      "df_train.dtypes[category_variables]"
     ],
     "language": "python",
     "metadata": {},
     "outputs": [
      {
       "metadata": {},
       "output_type": "pyout",
       "prompt_number": 98,
       "text": [
        "v3      object\n",
        "v22     object\n",
        "v24     object\n",
        "v30     object\n",
        "v31     object\n",
        "v38      int64\n",
        "v47     object\n",
        "v52     object\n",
        "v56     object\n",
        "v62      int64\n",
        "v66     object\n",
        "v71     object\n",
        "v72      int64\n",
        "v74     object\n",
        "v75     object\n",
        "v79     object\n",
        "v91     object\n",
        "v107    object\n",
        "v110    object\n",
        "v112    object\n",
        "v113    object\n",
        "v125    object\n",
        "v129     int64\n",
        "dtype: object"
       ]
      }
     ],
     "prompt_number": 98
    },
    {
     "cell_type": "code",
     "collapsed": false,
     "input": [],
     "language": "python",
     "metadata": {},
     "outputs": []
    }
   ],
   "metadata": {}
  }
 ]
}